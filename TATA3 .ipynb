{
 "cells": [
  {
   "cell_type": "markdown",
   "metadata": {},
   "source": [
    "# Stock Prices Prediction Using Keras Long Term Short Memory"
   ]
  },
  {
   "cell_type": "code",
   "execution_count": 110,
   "metadata": {},
   "outputs": [],
   "source": [
    "# Part 1 - Data Preprocessing\n",
    "\n",
    "# Importing the libraries\n",
    "import numpy as np\n",
    "import matplotlib.pyplot as plt\n",
    "import pandas as pd\n",
    "import yfinance as yahooFinance\n",
    "import datetime"
   ]
  },
  {
   "cell_type": "code",
   "execution_count": 111,
   "metadata": {},
   "outputs": [],
   "source": [
    "# Importing the training set\n",
    "ticker=\"META\"\n",
    "slidingWindowSize=90\n",
    "startDate = datetime.datetime(2018, 1, 1)\n",
    "endDate = datetime.datetime(2022, 12, 31)\n",
    "GetFacebookInformation = yahooFinance.Ticker(ticker)\n",
    "pd.set_option('display.max_rows', None)\n",
    "\n",
    " \n",
    "# pass the parameters as the taken dates for start and end\n",
    "pd.set_option('display.max_rows', None)\n",
    "dataset_train=GetFacebookInformation.history(start=startDate, end=endDate)\n",
    "\n",
    "#dataset_train = pd.read_csv('NSE-TATAGLOBAL.csv')\n",
    "training_set = dataset_train.iloc[:, 1:2].values"
   ]
  },
  {
   "cell_type": "code",
   "execution_count": 112,
   "metadata": {},
   "outputs": [
    {
     "data": {
      "text/html": [
       "<div>\n",
       "<style scoped>\n",
       "    .dataframe tbody tr th:only-of-type {\n",
       "        vertical-align: middle;\n",
       "    }\n",
       "\n",
       "    .dataframe tbody tr th {\n",
       "        vertical-align: top;\n",
       "    }\n",
       "\n",
       "    .dataframe thead th {\n",
       "        text-align: right;\n",
       "    }\n",
       "</style>\n",
       "<table border=\"1\" class=\"dataframe\">\n",
       "  <thead>\n",
       "    <tr style=\"text-align: right;\">\n",
       "      <th></th>\n",
       "      <th>Open</th>\n",
       "      <th>High</th>\n",
       "      <th>Low</th>\n",
       "      <th>Close</th>\n",
       "      <th>Volume</th>\n",
       "      <th>Dividends</th>\n",
       "      <th>Stock Splits</th>\n",
       "    </tr>\n",
       "    <tr>\n",
       "      <th>Date</th>\n",
       "      <th></th>\n",
       "      <th></th>\n",
       "      <th></th>\n",
       "      <th></th>\n",
       "      <th></th>\n",
       "      <th></th>\n",
       "      <th></th>\n",
       "    </tr>\n",
       "  </thead>\n",
       "  <tbody>\n",
       "    <tr>\n",
       "      <th>2018-01-02 00:00:00-05:00</th>\n",
       "      <td>177.679993</td>\n",
       "      <td>181.580002</td>\n",
       "      <td>177.550003</td>\n",
       "      <td>181.419998</td>\n",
       "      <td>18151900</td>\n",
       "      <td>0.0</td>\n",
       "      <td>0.0</td>\n",
       "    </tr>\n",
       "    <tr>\n",
       "      <th>2018-01-03 00:00:00-05:00</th>\n",
       "      <td>181.880005</td>\n",
       "      <td>184.779999</td>\n",
       "      <td>181.330002</td>\n",
       "      <td>184.669998</td>\n",
       "      <td>16886600</td>\n",
       "      <td>0.0</td>\n",
       "      <td>0.0</td>\n",
       "    </tr>\n",
       "    <tr>\n",
       "      <th>2018-01-04 00:00:00-05:00</th>\n",
       "      <td>184.899994</td>\n",
       "      <td>186.210007</td>\n",
       "      <td>184.100006</td>\n",
       "      <td>184.330002</td>\n",
       "      <td>13880900</td>\n",
       "      <td>0.0</td>\n",
       "      <td>0.0</td>\n",
       "    </tr>\n",
       "    <tr>\n",
       "      <th>2018-01-05 00:00:00-05:00</th>\n",
       "      <td>185.589996</td>\n",
       "      <td>186.899994</td>\n",
       "      <td>184.929993</td>\n",
       "      <td>186.850006</td>\n",
       "      <td>13574500</td>\n",
       "      <td>0.0</td>\n",
       "      <td>0.0</td>\n",
       "    </tr>\n",
       "    <tr>\n",
       "      <th>2018-01-08 00:00:00-05:00</th>\n",
       "      <td>187.199997</td>\n",
       "      <td>188.899994</td>\n",
       "      <td>186.330002</td>\n",
       "      <td>188.279999</td>\n",
       "      <td>17994700</td>\n",
       "      <td>0.0</td>\n",
       "      <td>0.0</td>\n",
       "    </tr>\n",
       "  </tbody>\n",
       "</table>\n",
       "</div>"
      ],
      "text/plain": [
       "                                 Open        High         Low       Close  \\\n",
       "Date                                                                        \n",
       "2018-01-02 00:00:00-05:00  177.679993  181.580002  177.550003  181.419998   \n",
       "2018-01-03 00:00:00-05:00  181.880005  184.779999  181.330002  184.669998   \n",
       "2018-01-04 00:00:00-05:00  184.899994  186.210007  184.100006  184.330002   \n",
       "2018-01-05 00:00:00-05:00  185.589996  186.899994  184.929993  186.850006   \n",
       "2018-01-08 00:00:00-05:00  187.199997  188.899994  186.330002  188.279999   \n",
       "\n",
       "                             Volume  Dividends  Stock Splits  \n",
       "Date                                                          \n",
       "2018-01-02 00:00:00-05:00  18151900        0.0           0.0  \n",
       "2018-01-03 00:00:00-05:00  16886600        0.0           0.0  \n",
       "2018-01-04 00:00:00-05:00  13880900        0.0           0.0  \n",
       "2018-01-05 00:00:00-05:00  13574500        0.0           0.0  \n",
       "2018-01-08 00:00:00-05:00  17994700        0.0           0.0  "
      ]
     },
     "execution_count": 112,
     "metadata": {},
     "output_type": "execute_result"
    }
   ],
   "source": [
    "dataset_train.head()\n",
    "\n",
    "\n"
   ]
  },
  {
   "cell_type": "code",
   "execution_count": 113,
   "metadata": {},
   "outputs": [],
   "source": [
    "\n",
    "#for i in range ( 10 ):\n",
    "#   print( training_set [i] )\n",
    "#print(training_set.shape)\n",
    "\n",
    "# Feature Scaling\n",
    "from sklearn.preprocessing import MinMaxScaler\n",
    "sc = MinMaxScaler(feature_range = (0, 1))\n",
    "training_set_scaled = sc.fit_transform(training_set)"
   ]
  },
  {
   "cell_type": "code",
   "execution_count": 114,
   "metadata": {},
   "outputs": [],
   "source": [
    "# Creating a data structure with 60 timesteps and 1 output\n",
    "X_train = []\n",
    "y_train = []\n",
    "for i in range(slidingWindowSize, training_set_scaled.shape[0]):\n",
    "    X_train.append(training_set_scaled[i-slidingWindowSize:i, 0])\n",
    "    y_train.append(training_set_scaled[i, 0])\n",
    "X_train, y_train = np.array(X_train), np.array(y_train)"
   ]
  },
  {
   "cell_type": "code",
   "execution_count": 115,
   "metadata": {},
   "outputs": [],
   "source": [
    "# Reshaping\n",
    "X_train = np.reshape(X_train, (X_train.shape[0], X_train.shape[1], 1))"
   ]
  },
  {
   "cell_type": "code",
   "execution_count": 116,
   "metadata": {},
   "outputs": [],
   "source": [
    "# Part 2 - Building the RNN\n",
    "\n",
    "# Importing the Keras libraries and packages\n",
    "from keras.models import Sequential\n",
    "from keras.layers import Dense\n",
    "from keras.layers import LSTM\n",
    "from keras.layers import Dropout"
   ]
  },
  {
   "cell_type": "code",
   "execution_count": 117,
   "metadata": {},
   "outputs": [],
   "source": [
    "# Initialising the RNN\n",
    "regressor = Sequential()\n",
    "\n",
    "# Adding the first LSTM layer and some Dropout regularisation\n",
    "regressor.add(LSTM(units = 50, return_sequences = True, input_shape = (X_train.shape[1], 1)))\n",
    "regressor.add(Dropout(0.2))"
   ]
  },
  {
   "cell_type": "code",
   "execution_count": 118,
   "metadata": {},
   "outputs": [],
   "source": [
    "# Adding a second LSTM layer and some Dropout regularisation\n",
    "regressor.add(LSTM(units = 50, return_sequences = True))\n",
    "regressor.add(Dropout(0.2))"
   ]
  },
  {
   "cell_type": "code",
   "execution_count": 119,
   "metadata": {},
   "outputs": [],
   "source": [
    "\n",
    "# Adding a third LSTM layer and some Dropout regularisation\n",
    "regressor.add(LSTM(units = 50, return_sequences = True))\n",
    "regressor.add(Dropout(0.2))"
   ]
  },
  {
   "cell_type": "code",
   "execution_count": 120,
   "metadata": {},
   "outputs": [],
   "source": [
    "# Adding a fourth LSTM layer and some Dropout regularisation\n",
    "regressor.add(LSTM(units = 50, return_sequences = True))\n",
    "regressor.add(Dropout(0.2))\n",
    "\n",
    "\n",
    "# Adding a fifth LSTM layer and some Dropout regularisation\n",
    "regressor.add(LSTM(units = 50))\n",
    "regressor.add(Dropout(0.2))"
   ]
  },
  {
   "cell_type": "code",
   "execution_count": 121,
   "metadata": {},
   "outputs": [
    {
     "name": "stdout",
     "output_type": "stream",
     "text": [
      "Epoch 1/100\n",
      "37/37 [==============================] - 12s 99ms/step - loss: 0.0346\n",
      "Epoch 2/100\n",
      "37/37 [==============================] - 4s 95ms/step - loss: 0.0084\n",
      "Epoch 3/100\n",
      "37/37 [==============================] - 4s 97ms/step - loss: 0.0081\n",
      "Epoch 4/100\n",
      "37/37 [==============================] - 4s 96ms/step - loss: 0.0075\n",
      "Epoch 5/100\n",
      "37/37 [==============================] - 4s 97ms/step - loss: 0.0064\n",
      "Epoch 6/100\n",
      "37/37 [==============================] - 4s 96ms/step - loss: 0.0075\n",
      "Epoch 7/100\n",
      "37/37 [==============================] - 4s 97ms/step - loss: 0.0058\n",
      "Epoch 8/100\n",
      "37/37 [==============================] - 4s 96ms/step - loss: 0.0052\n",
      "Epoch 9/100\n",
      "37/37 [==============================] - 4s 96ms/step - loss: 0.0058\n",
      "Epoch 10/100\n",
      "37/37 [==============================] - 4s 98ms/step - loss: 0.0050\n",
      "Epoch 11/100\n",
      "37/37 [==============================] - 4s 96ms/step - loss: 0.0045\n",
      "Epoch 12/100\n",
      "37/37 [==============================] - 4s 97ms/step - loss: 0.0042\n",
      "Epoch 13/100\n",
      "37/37 [==============================] - 4s 98ms/step - loss: 0.0043\n",
      "Epoch 14/100\n",
      "37/37 [==============================] - 4s 96ms/step - loss: 0.0043\n",
      "Epoch 15/100\n",
      "37/37 [==============================] - 4s 97ms/step - loss: 0.0043\n",
      "Epoch 16/100\n",
      "37/37 [==============================] - 4s 96ms/step - loss: 0.0042\n",
      "Epoch 17/100\n",
      "37/37 [==============================] - 4s 97ms/step - loss: 0.0044\n",
      "Epoch 18/100\n",
      "37/37 [==============================] - 4s 96ms/step - loss: 0.0039\n",
      "Epoch 19/100\n",
      "37/37 [==============================] - 4s 97ms/step - loss: 0.0044\n",
      "Epoch 20/100\n",
      "37/37 [==============================] - 4s 97ms/step - loss: 0.0044\n",
      "Epoch 21/100\n",
      "37/37 [==============================] - 4s 97ms/step - loss: 0.0036\n",
      "Epoch 22/100\n",
      "37/37 [==============================] - 4s 97ms/step - loss: 0.0035\n",
      "Epoch 23/100\n",
      "37/37 [==============================] - 4s 96ms/step - loss: 0.0035\n",
      "Epoch 24/100\n",
      "37/37 [==============================] - 4s 98ms/step - loss: 0.0035\n",
      "Epoch 25/100\n",
      "37/37 [==============================] - 4s 96ms/step - loss: 0.0041\n",
      "Epoch 26/100\n",
      "37/37 [==============================] - 4s 98ms/step - loss: 0.0035\n",
      "Epoch 27/100\n",
      "37/37 [==============================] - 4s 97ms/step - loss: 0.0034\n",
      "Epoch 28/100\n",
      "37/37 [==============================] - 4s 96ms/step - loss: 0.0032\n",
      "Epoch 29/100\n",
      "37/37 [==============================] - 4s 99ms/step - loss: 0.0033\n",
      "Epoch 30/100\n",
      "37/37 [==============================] - 4s 98ms/step - loss: 0.0031\n",
      "Epoch 31/100\n",
      "37/37 [==============================] - 4s 98ms/step - loss: 0.0033\n",
      "Epoch 32/100\n",
      "37/37 [==============================] - 4s 98ms/step - loss: 0.0037\n",
      "Epoch 33/100\n",
      "37/37 [==============================] - 4s 95ms/step - loss: 0.0032\n",
      "Epoch 34/100\n",
      "37/37 [==============================] - 4s 97ms/step - loss: 0.0032\n",
      "Epoch 35/100\n",
      "37/37 [==============================] - 4s 96ms/step - loss: 0.0035\n",
      "Epoch 36/100\n",
      "37/37 [==============================] - 4s 97ms/step - loss: 0.0030\n",
      "Epoch 37/100\n",
      "37/37 [==============================] - 4s 97ms/step - loss: 0.0034\n",
      "Epoch 38/100\n",
      "37/37 [==============================] - 4s 96ms/step - loss: 0.0031\n",
      "Epoch 39/100\n",
      "37/37 [==============================] - 4s 98ms/step - loss: 0.0027\n",
      "Epoch 40/100\n",
      "37/37 [==============================] - 4s 96ms/step - loss: 0.0027\n",
      "Epoch 41/100\n",
      "37/37 [==============================] - 4s 97ms/step - loss: 0.0028\n",
      "Epoch 42/100\n",
      "37/37 [==============================] - 4s 97ms/step - loss: 0.0027\n",
      "Epoch 43/100\n",
      "37/37 [==============================] - 4s 96ms/step - loss: 0.0029\n",
      "Epoch 44/100\n",
      "37/37 [==============================] - 4s 97ms/step - loss: 0.0028\n",
      "Epoch 45/100\n",
      "37/37 [==============================] - 4s 102ms/step - loss: 0.0026\n",
      "Epoch 46/100\n",
      "37/37 [==============================] - 4s 101ms/step - loss: 0.0027\n",
      "Epoch 47/100\n",
      "37/37 [==============================] - 4s 109ms/step - loss: 0.0026\n",
      "Epoch 48/100\n",
      "37/37 [==============================] - 4s 105ms/step - loss: 0.0027\n",
      "Epoch 49/100\n",
      "37/37 [==============================] - 4s 105ms/step - loss: 0.0026\n",
      "Epoch 50/100\n",
      "37/37 [==============================] - 4s 103ms/step - loss: 0.0026\n",
      "Epoch 51/100\n",
      "37/37 [==============================] - 4s 102ms/step - loss: 0.0028\n",
      "Epoch 52/100\n",
      "37/37 [==============================] - 4s 101ms/step - loss: 0.0028\n",
      "Epoch 53/100\n",
      "37/37 [==============================] - 4s 101ms/step - loss: 0.0025\n",
      "Epoch 54/100\n",
      "37/37 [==============================] - 4s 103ms/step - loss: 0.0024\n",
      "Epoch 55/100\n",
      "37/37 [==============================] - 4s 101ms/step - loss: 0.0026\n",
      "Epoch 56/100\n",
      "37/37 [==============================] - 4s 102ms/step - loss: 0.0026\n",
      "Epoch 57/100\n",
      "37/37 [==============================] - 4s 103ms/step - loss: 0.0023\n",
      "Epoch 58/100\n",
      "37/37 [==============================] - 4s 101ms/step - loss: 0.0024\n",
      "Epoch 59/100\n",
      "37/37 [==============================] - 4s 103ms/step - loss: 0.0025\n",
      "Epoch 60/100\n",
      "37/37 [==============================] - 4s 103ms/step - loss: 0.0026\n",
      "Epoch 61/100\n",
      "37/37 [==============================] - 4s 101ms/step - loss: 0.0024\n",
      "Epoch 62/100\n",
      "37/37 [==============================] - 4s 103ms/step - loss: 0.0024\n",
      "Epoch 63/100\n",
      "37/37 [==============================] - 4s 103ms/step - loss: 0.0022\n",
      "Epoch 64/100\n",
      "37/37 [==============================] - 4s 102ms/step - loss: 0.0022\n",
      "Epoch 65/100\n",
      "37/37 [==============================] - 4s 103ms/step - loss: 0.0022\n",
      "Epoch 66/100\n",
      "37/37 [==============================] - 4s 102ms/step - loss: 0.0022\n",
      "Epoch 67/100\n",
      "37/37 [==============================] - 4s 102ms/step - loss: 0.0021\n",
      "Epoch 68/100\n",
      "37/37 [==============================] - 4s 102ms/step - loss: 0.0022\n",
      "Epoch 69/100\n",
      "37/37 [==============================] - 4s 101ms/step - loss: 0.0021\n",
      "Epoch 70/100\n",
      "37/37 [==============================] - 4s 102ms/step - loss: 0.0021\n",
      "Epoch 71/100\n",
      "37/37 [==============================] - 4s 102ms/step - loss: 0.0021\n",
      "Epoch 72/100\n",
      "37/37 [==============================] - 4s 104ms/step - loss: 0.0022\n",
      "Epoch 73/100\n",
      "37/37 [==============================] - 4s 106ms/step - loss: 0.0019\n",
      "Epoch 74/100\n",
      "37/37 [==============================] - 4s 109ms/step - loss: 0.0018\n",
      "Epoch 75/100\n",
      "37/37 [==============================] - 4s 104ms/step - loss: 0.0019\n",
      "Epoch 76/100\n",
      "37/37 [==============================] - 4s 100ms/step - loss: 0.0017\n",
      "Epoch 77/100\n",
      "37/37 [==============================] - 4s 103ms/step - loss: 0.0016\n",
      "Epoch 78/100\n",
      "37/37 [==============================] - 4s 103ms/step - loss: 0.0018\n",
      "Epoch 79/100\n",
      "37/37 [==============================] - 4s 100ms/step - loss: 0.0018\n",
      "Epoch 80/100\n",
      "37/37 [==============================] - 4s 102ms/step - loss: 0.0020\n",
      "Epoch 81/100\n",
      "37/37 [==============================] - 4s 103ms/step - loss: 0.0019\n",
      "Epoch 82/100\n",
      "37/37 [==============================] - 4s 100ms/step - loss: 0.0017\n",
      "Epoch 83/100\n",
      "37/37 [==============================] - 4s 103ms/step - loss: 0.0018\n",
      "Epoch 84/100\n",
      "37/37 [==============================] - 4s 103ms/step - loss: 0.0018\n",
      "Epoch 85/100\n",
      "37/37 [==============================] - 4s 100ms/step - loss: 0.0019\n",
      "Epoch 86/100\n",
      "37/37 [==============================] - 4s 102ms/step - loss: 0.0020\n",
      "Epoch 87/100\n",
      "37/37 [==============================] - 4s 102ms/step - loss: 0.0017\n",
      "Epoch 88/100\n",
      "37/37 [==============================] - 4s 102ms/step - loss: 0.0017\n",
      "Epoch 89/100\n",
      "37/37 [==============================] - 4s 101ms/step - loss: 0.0016\n",
      "Epoch 90/100\n",
      "37/37 [==============================] - 4s 102ms/step - loss: 0.0019\n",
      "Epoch 91/100\n",
      "37/37 [==============================] - 4s 102ms/step - loss: 0.0015\n",
      "Epoch 92/100\n",
      "37/37 [==============================] - 4s 101ms/step - loss: 0.0016\n",
      "Epoch 93/100\n",
      "37/37 [==============================] - 4s 103ms/step - loss: 0.0014\n",
      "Epoch 94/100\n",
      "37/37 [==============================] - 4s 103ms/step - loss: 0.0017\n",
      "Epoch 95/100\n",
      "37/37 [==============================] - 4s 100ms/step - loss: 0.0015\n",
      "Epoch 96/100\n",
      "37/37 [==============================] - 4s 103ms/step - loss: 0.0015\n",
      "Epoch 97/100\n",
      "37/37 [==============================] - 4s 103ms/step - loss: 0.0015\n",
      "Epoch 98/100\n",
      "37/37 [==============================] - 4s 100ms/step - loss: 0.0016\n",
      "Epoch 99/100\n",
      "37/37 [==============================] - 4s 103ms/step - loss: 0.0016\n",
      "Epoch 100/100\n",
      "37/37 [==============================] - 4s 103ms/step - loss: 0.0018\n"
     ]
    },
    {
     "data": {
      "text/plain": [
       "<keras.src.callbacks.History at 0x141328fa0>"
      ]
     },
     "execution_count": 121,
     "metadata": {},
     "output_type": "execute_result"
    }
   ],
   "source": [
    "# Adding the output layer\n",
    "regressor.add(Dense(units = 1))\n",
    "\n",
    "# Compiling the RNN\n",
    "regressor.compile(optimizer = 'adam', loss = 'mean_squared_error')\n",
    "\n",
    "# Fitting the RNN to the Training set\n",
    "regressor.fit(X_train, y_train, epochs = 100, batch_size = 32)\n",
    "\n"
   ]
  },
  {
   "cell_type": "code",
   "execution_count": 122,
   "metadata": {},
   "outputs": [],
   "source": [
    "# Part 3 - Making the predictions and visualising the results\n",
    "\n",
    "# Getting the real stock price of 2017\n",
    "dataset_test=GetFacebookInformation.history(period=\"ytd\")\n",
    "#dataset_test = pd.read_csv('tatatest.csv')\n",
    "real_stock_price = dataset_test.iloc[:, 1:2].values"
   ]
  },
  {
   "cell_type": "code",
   "execution_count": 123,
   "metadata": {},
   "outputs": [
    {
     "name": "stdout",
     "output_type": "stream",
     "text": [
      "6/6 [==============================] - 2s 28ms/step\n"
     ]
    }
   ],
   "source": [
    "# Getting the predicted stock price of 2017\n",
    "dataset_total = pd.concat((dataset_train['Open'], dataset_test['Open']), axis = 0)\n",
    "inputs = dataset_total[len(dataset_total) - len(dataset_test) - slidingWindowSize:].values\n",
    "inputs = inputs.reshape(-1,1)\n",
    "inputs = sc.transform(inputs)\n",
    "X_test = []\n",
    "#for i in range(60, 76):\n",
    "for i in range(slidingWindowSize, inputs.shape[0]):\n",
    "    X_test.append(inputs[i-slidingWindowSize:i, 0])\n",
    "X_test = np.array(X_test)\n",
    "X_test = np.reshape(X_test, (X_test.shape[0], X_test.shape[1], 1))\n",
    "predicted_stock_price = regressor.predict(X_test)\n",
    "predicted_stock_price = sc.inverse_transform(predicted_stock_price)\n"
   ]
  },
  {
   "cell_type": "code",
   "execution_count": 124,
   "metadata": {},
   "outputs": [
    {
     "data": {
      "image/png": "[encoded data removed]",
      "text/plain": [
       "<Figure size 432x288 with 1 Axes>"
      ]
     },
     "metadata": {
      "needs_background": "light"
     },
     "output_type": "display_data"
    }
   ],
   "source": [
    "# Visualising the results\n",
    "plt.plot(real_stock_price, color = 'red', label = 'Real')\n",
    "plt.plot(predicted_stock_price, color = 'blue', label = 'Predicted')\n",
    "plt.title(ticker+' stock price prediction. Sliding window:'+str(slidingWindowSize))\n",
    "plt.xlabel('Time')\n",
    "plt.ylabel('Stock Price')\n",
    "plt.legend()\n",
    "plt.plot()\n",
    "plt.savefig(ticker+'-'+str(slidingWindowSize), bbox_inches='tight', dpi = 1000)\n",
    "plt.show()"
   ]
  },
  {
   "cell_type": "code",
   "execution_count": 127,
   "metadata": {},
   "outputs": [
    {
     "data": {
      "image/png": "[encoded data removed]",
      "text/plain": [
       "<Figure size 432x288 with 1 Axes>"
      ]
     },
     "metadata": {
      "needs_background": "light"
     },
     "output_type": "display_data"
    }
   ],
   "source": [
    "error=np.multiply(np.divide(predicted_stock_price, real_stock_price),100)\n",
    "meanError=np.mean(error)\n",
    "plt.plot(error, color = 'red', label = 'diff in percentage')\n",
    "plt.axhline(meanError, color = 'blue', label = 'mean')\n",
    "plt.title(ticker+' stock price prediction error. Sliding window:'+str(slidingWindowSize))\n",
    "plt.xlabel('Time')\n",
    "plt.ylabel('Percentage')\n",
    "plt.legend()\n",
    "plt.plot()\n",
    "plt.savefig(ticker+'-error-'+str(slidingWindowSize), bbox_inches='tight', dpi = 1000)\n",
    "plt.show()"
   ]
  }
 ],
 "metadata": {
  "kernelspec": {
   "display_name": "Python 3.9.10 64-bit",
   "language": "python",
   "name": "python3"
  },
  "language_info": {
   "codemirror_mode": {
    "name": "ipython",
    "version": 3
   },
   "file_extension": ".py",
   "mimetype": "text/x-python",
   "name": "python",
   "nbconvert_exporter": "python",
   "pygments_lexer": "ipython3",
   "version": "3.9.10"
  },
  "vscode": {
   "interpreter": {
    "hash": "aee8b7b246df8f9039afb4144a1f6fd8d2ca17a180786b69acc140d282b71a49"
   }
  }
 },
 "nbformat": 4,
 "nbformat_minor": 2
}
